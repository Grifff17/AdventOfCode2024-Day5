{
 "cells": [
  {
   "cell_type": "code",
   "execution_count": 17,
   "metadata": {},
   "outputs": [],
   "source": [
    "import pandas as pd\n",
    "import numpy as np\n",
    "from utils import fileRead\n",
    "import math\n",
    "import functools"
   ]
  },
  {
   "cell_type": "code",
   "execution_count": 18,
   "metadata": {},
   "outputs": [],
   "source": [
    "data = fileRead(\"input.txt\")"
   ]
  },
  {
   "cell_type": "markdown",
   "metadata": {},
   "source": [
    "## Part 1"
   ]
  },
  {
   "cell_type": "code",
   "execution_count": 19,
   "metadata": {},
   "outputs": [],
   "source": [
    "split = data.index('\\n')\n",
    "order = data[:split]\n",
    "updates = data[split+1:]\n",
    "order = [ i.strip().split(\"|\") for i in order]\n",
    "updates = [ i.strip().split(\",\") for i in updates]"
   ]
  },
  {
   "cell_type": "code",
   "execution_count": 20,
   "metadata": {},
   "outputs": [],
   "source": [
    "def getPrereqs(order, val):\n",
    "    prereqs = []\n",
    "    for i in order:\n",
    "        if i[1] == val:\n",
    "            prereqs.append(i[0])\n",
    "    return prereqs"
   ]
  },
  {
   "cell_type": "code",
   "execution_count": 21,
   "metadata": {},
   "outputs": [
    {
     "data": {
      "text/plain": [
       "4135"
      ]
     },
     "execution_count": 21,
     "metadata": {},
     "output_type": "execute_result"
    }
   ],
   "source": [
    "sum = 0\n",
    "for update in updates:\n",
    "    valid = True\n",
    "\n",
    "    for i in range(len(update)):\n",
    "        prereqs = getPrereqs(order, update[i])\n",
    "        for j in range(i):\n",
    "            if update[j] not in prereqs:\n",
    "                valid = False\n",
    "    \n",
    "    if valid:\n",
    "        val = int(update[math.floor(len(update)/2)])\n",
    "        sum = sum + val\n",
    "sum"
   ]
  },
  {
   "cell_type": "markdown",
   "metadata": {},
   "source": [
    "## Part 2"
   ]
  },
  {
   "cell_type": "code",
   "execution_count": 22,
   "metadata": {},
   "outputs": [],
   "source": [
    "incorrect = []\n",
    "for update in updates:\n",
    "    valid = True\n",
    "\n",
    "    for i in range(len(update)):\n",
    "        prereqs = getPrereqs(order, update[i])\n",
    "        for j in range(i):\n",
    "            if update[j] not in prereqs:\n",
    "                valid = False\n",
    "    \n",
    "    if not valid:\n",
    "        incorrect.append(update)"
   ]
  },
  {
   "cell_type": "code",
   "execution_count": 23,
   "metadata": {},
   "outputs": [],
   "source": [
    "befores = {}\n",
    "for i in order:\n",
    "    if i[1] not in befores:\n",
    "        befores[i[1]] = (i[0],)\n",
    "    else:\n",
    "        befores[i[1]] = befores[i[1]] + (i[0],)"
   ]
  },
  {
   "cell_type": "code",
   "execution_count": 24,
   "metadata": {},
   "outputs": [],
   "source": [
    "def compareValues(v1, v2):\n",
    "    global befores\n",
    "    if v2 in befores[v1]:\n",
    "        return -1\n",
    "    else:\n",
    "        return 1\n"
   ]
  },
  {
   "cell_type": "code",
   "execution_count": 25,
   "metadata": {},
   "outputs": [
    {
     "data": {
      "text/plain": [
       "5285"
      ]
     },
     "execution_count": 25,
     "metadata": {},
     "output_type": "execute_result"
    }
   ],
   "source": [
    "sum = 0\n",
    "for update in incorrect:\n",
    "    update_sort = update.copy()\n",
    "    update_sort.sort(key=functools.cmp_to_key(compareValues), reverse=True)\n",
    "    val = int(update_sort[math.floor(len(update_sort)/2)])\n",
    "    sum = sum + val\n",
    "sum"
   ]
  }
 ],
 "metadata": {
  "kernelspec": {
   "display_name": "base",
   "language": "python",
   "name": "python3"
  },
  "language_info": {
   "codemirror_mode": {
    "name": "ipython",
    "version": 3
   },
   "file_extension": ".py",
   "mimetype": "text/x-python",
   "name": "python",
   "nbconvert_exporter": "python",
   "pygments_lexer": "ipython3",
   "version": "3.11.7"
  }
 },
 "nbformat": 4,
 "nbformat_minor": 2
}
